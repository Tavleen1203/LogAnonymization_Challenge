{
  "nbformat": 4,
  "nbformat_minor": 0,
  "metadata": {
    "colab": {
      "provenance": [],
      "authorship_tag": "ABX9TyNDCxDWG+KU9cbseQME3g9g",
      "include_colab_link": true
    },
    "kernelspec": {
      "name": "python3",
      "display_name": "Python 3"
    },
    "language_info": {
      "name": "python"
    }
  },
  "cells": [
    {
      "cell_type": "markdown",
      "metadata": {
        "id": "view-in-github",
        "colab_type": "text"
      },
      "source": [
        "<a href=\"https://colab.research.google.com/github/Tavleen1203/LogAnonymization_Challenge/blob/main/CodingChallenge_LFX_NLP.ipynb\" target=\"_parent\"><img src=\"https://colab.research.google.com/assets/colab-badge.svg\" alt=\"Open In Colab\"/></a>"
      ]
    },
    {
      "cell_type": "markdown",
      "source": [
        "# **CODING CHALLENGE:ANONYMIZATION USING NLP**"
      ],
      "metadata": {
        "id": "y_9B-g6l-6dD"
      }
    },
    {
      "cell_type": "markdown",
      "source": [
        "**Approaches Used**\n",
        "\n",
        "1. For this challenge I have used two approaches, firstly I have done a simple non-NLP approach of hiding PIIs to gain intuition on the project, I have simply identified the PIIs, and hidden them by using X symbols.\n",
        "\n",
        "2. Next, after gaining sense of the implementation I have moved to the NLP Code, the technique that I used here was text masking. For this, I have created a sensitive_info object, for reference. Then upon iterating over the data, each time a pattern of the object is encountered, the mask_text() function is called and it masks the text based on tag defined in the sensitive_info."
      ],
      "metadata": {
        "id": "0FkBHdna79q0"
      }
    },
    {
      "cell_type": "markdown",
      "source": [
        "Dataset Used: https://github.com/logpai/loghub/blob/master/OpenStack/OpenStack_2k.log_structured.csv"
      ],
      "metadata": {
        "id": "eXnA_PCW3Iuz"
      }
    },
    {
      "cell_type": "markdown",
      "source": [
        "**1. ANONYMIZATION INTUITION**"
      ],
      "metadata": {
        "id": "NKNuyzdW9qlm"
      }
    },
    {
      "cell_type": "code",
      "source": [
        "import pandas as pd\n",
        "\n",
        "# Load the dataset\n",
        "data = pd.read_csv(\"data_log.csv\", delimiter=\",\")\n",
        "\n",
        "# Anonymize User, PID, and Address fields\n",
        "data['User'] = 'XXXXX'\n",
        "data['PID'] = 'XXXXX'\n",
        "data['Address'] = 'XXXXX'\n",
        "\n",
        "# Save the anonymized dataset to a new CSV file\n",
        "data.to_csv(\"anonymized_data_log.csv\", index=False)\n",
        "\n",
        "\n"
      ],
      "metadata": {
        "id": "-o22axcT3Ofn"
      },
      "execution_count": 14,
      "outputs": []
    },
    {
      "cell_type": "code",
      "source": [
        "import pandas as pd\n",
        "\n",
        "def mask_text(text):\n",
        "\n",
        "    # Define sensitive information patterns and corresponding tokens\n",
        "    sensitive_info = {\n",
        "        'USER': ['calvisitor', 'authorMacBook-Pro'],\n",
        "        'IP_ADDRESS': ['10.105.160.95', '10.105.162.105']\n",
        "        # Add more sensitive information patterns as needed\n",
        "    }\n",
        "\n",
        "    # Replace sensitive information with tokens\n",
        "    for token, patterns in sensitive_info.items():\n",
        "        for pattern in patterns:\n",
        "            text = text.replace(pattern, f'<{token}>')\n",
        "\n",
        "    return text\n",
        "\n",
        "# Load the dataset\n",
        "data = pd.read_csv(\"data_log.csv\", delimiter=\"\\t\")\n",
        "\n",
        "# Apply text masking to all text fields in the dataset\n",
        "for column in data.select_dtypes(include='object'):\n",
        "    data[column] = data[column].apply(mask_text)\n",
        "\n",
        "# Save the anonymized dataset to a new CSV file\n",
        "data.to_csv(\"masked_data_log.csv\", index=False)\n"
      ],
      "metadata": {
        "id": "A9I4Bvkg5Mhf"
      },
      "execution_count": 16,
      "outputs": []
    }
  ]
}